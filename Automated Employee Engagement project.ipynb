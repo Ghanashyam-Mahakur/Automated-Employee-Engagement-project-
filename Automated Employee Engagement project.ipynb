{
 "cells": [
  {
   "cell_type": "markdown",
   "id": "54e14995",
   "metadata": {},
   "source": [
    "#                                              PART 1"
   ]
  },
  {
   "cell_type": "markdown",
   "id": "17068cb6",
   "metadata": {},
   "source": [
    "# Task1"
   ]
  },
  {
   "cell_type": "code",
   "execution_count": 1,
   "id": "dfe81169",
   "metadata": {},
   "outputs": [
    {
     "name": "stdout",
     "output_type": "stream",
     "text": [
      "\n",
      "Riddle: Who is cuurently finance minister of India\n",
      "Your answer: h\n",
      "Incorrect! The correct answer is: Nirmala Sitharaman\n",
      "Do you want to play again? (yes/no): no\n",
      "\n",
      "Your score: 0/1\n",
      "Your percentage is 0.00%\n"
     ]
    }
   ],
   "source": [
    "import random\n",
    "riddles = {'What is the capital of Germany':'Berlin',\n",
    "        'Who is the governor of the Reserve Bank of India':'Shaktikanta Dash',\n",
    "        'Who is cuurently finance minister of India':'Nirmala Sitharaman',\n",
    "        'What is the capital of Arunachal Pradesh':'Itanagar',\n",
    "        'Where is the COP 28 scheduled to be hled':'Dubai',\n",
    "        'Which institution is the regulator of insurance companies':'IRDAI'}\n",
    "score = 0\n",
    "total_question_attempts = 0\n",
    "while True:\n",
    "    question = random.choice(list(riddles.keys()))\n",
    "    correct_answer = riddles[question]\n",
    "\n",
    "    print(f\"\\nRiddle: {question}\")\n",
    "    user_answer = input(\"Your answer: \")\n",
    "\n",
    "    total_question_attempts += 1\n",
    "\n",
    "    if user_answer.lower() == correct_answer.lower():\n",
    "        print(\"Correct!\")\n",
    "        score += 1\n",
    "    else:\n",
    "        print(f\"Incorrect! The correct answer is: {correct_answer}\")\n",
    "\n",
    "    want_to_play_again = input(\"Do you want to play again? (yes/no): \").lower()\n",
    "    if want_to_play_again != 'yes':break\n",
    "\n",
    "if total_question_attempts > 0:\n",
    "    percentage_score = (score / total_question_attempts) * 100\n",
    "    print(f\"\\nYour score: {score}/{total_question_attempts}\")\n",
    "    print(f'Your percentage is {percentage_score:.2f}%')\n",
    "\n",
    "\n"
   ]
  },
  {
   "cell_type": "markdown",
   "id": "311ed08a",
   "metadata": {},
   "source": [
    "# Task2"
   ]
  },
  {
   "cell_type": "code",
   "execution_count": 2,
   "id": "a62eca3b",
   "metadata": {},
   "outputs": [
    {
     "name": "stdout",
     "output_type": "stream",
     "text": [
      "\n",
      "Arithmetic Puzzle: 2 + 19\n",
      "Your answer: 21\n",
      "Correct!\n",
      "Do you want to play again? (yes/no): no\n",
      "\n",
      "Your score: 1/1 \n",
      "Your percentage is 100.00%\n"
     ]
    }
   ],
   "source": [
    "import random\n",
    "score = 0\n",
    "total_question_attempts = 0\n",
    "while True:\n",
    "    num1 = random.randint(1, 20)\n",
    "    num2 = random.randint(1, 20)\n",
    "    operator = random.choice(['+', '-', '*', '/'])\n",
    "    question = f\"{num1} {operator} {num2}\"\n",
    "    correct_answer = eval(question)\n",
    "\n",
    "    print(f\"\\nArithmetic Puzzle: {question}\")\n",
    "    user_answer = input(\"Your answer: \")\n",
    "\n",
    "    if user_answer.replace('.', '', 1).isdigit():\n",
    "        user_answer = float(user_answer)\n",
    "        total_question_attempts += 1\n",
    "\n",
    "        if user_answer == correct_answer:\n",
    "            print(\"Correct!\")\n",
    "            score += 1\n",
    "        else:\n",
    "            print(f\"Wrong! The correct answer is {correct_answer}\")\n",
    "\n",
    "        want_to_play_again = input(\"Do you want to play again? (yes/no): \").lower()\n",
    "        if want_to_play_again != 'yes':break\n",
    "            \n",
    "        else:\n",
    "            print(\"Invalid input. Please enter a number.\")\n",
    "\n",
    "if total_question_attempts > 0:\n",
    "    percentage_score = (score / total_question_attempts) * 100\n",
    "    print(f\"\\nYour score: {score}/{total_question_attempts} \")\n",
    "    print(f'Your percentage is {percentage_score:.2f}%')\n",
    "\n",
    "\n"
   ]
  },
  {
   "cell_type": "markdown",
   "id": "eb291b89",
   "metadata": {},
   "source": [
    "# Task3"
   ]
  },
  {
   "cell_type": "markdown",
   "id": "d6385984",
   "metadata": {},
   "source": [
    "# 1."
   ]
  },
  {
   "cell_type": "code",
   "execution_count": 3,
   "id": "906bace2",
   "metadata": {},
   "outputs": [
    {
     "name": "stdout",
     "output_type": "stream",
     "text": [
      "\n",
      "Riddle: Which institution is the regulator of insurance companies\n",
      "Your answer: irdai\n",
      "Correct!\n",
      "Do you want to play again? (yes/no): no\n",
      "\n",
      "Your score: 1/1\n",
      "Your percentage is 100.00%\n"
     ]
    }
   ],
   "source": [
    "import random\n",
    "def playRiddlePuzzle():\n",
    "    riddles = {'What is the capital of Germany':'Berlin',\n",
    "        'Who is the governor of the Reserve Bank of India':'Shaktikanta Dash',\n",
    "        'Who is cuurently finance minister of India':'Nirmala Sitharaman',\n",
    "        'What is the capital of Arunachal Pradesh':'Itanagar',\n",
    "        'Where is the COP 28 scheduled to be hled':'Dubai',\n",
    "        'Which institution is the regulator of insurance companies':'IRDAI'}\n",
    "\n",
    "    score = 0\n",
    "    total_question_attempts = 0\n",
    "\n",
    "    while True:\n",
    "        question = random.choice(list(riddles.keys()))\n",
    "        correct_answer = riddles[question]\n",
    "\n",
    "        print(f\"\\nRiddle: {question}\")\n",
    "        user_answer = input(\"Your answer: \")\n",
    "\n",
    "        total_question_attempts += 1\n",
    "\n",
    "        if user_answer.lower() == correct_answer.lower():\n",
    "            print(\"Correct!\")\n",
    "            score += 1\n",
    "        else:\n",
    "            print(f\"Incorrect! The correct answer is: {correct_answer}\")\n",
    "\n",
    "        want_to_play_again = input(\"Do you want to play again? (yes/no): \").lower()\n",
    "        if want_to_play_again != 'yes':\n",
    "            break\n",
    "\n",
    "    if total_question_attempts > 0:\n",
    "        percentage_score = (score / total_question_attempts) * 100\n",
    "        print(f\"\\nYour score: {score}/{total_question_attempts}\")\n",
    "        print(f'Your percentage is {percentage_score:.2f}%')\n",
    "\n",
    "playRiddlePuzzle()\n"
   ]
  },
  {
   "cell_type": "markdown",
   "id": "9745c1d2",
   "metadata": {},
   "source": [
    "# 2."
   ]
  },
  {
   "cell_type": "code",
   "execution_count": 4,
   "id": "490a6abd",
   "metadata": {},
   "outputs": [
    {
     "name": "stdout",
     "output_type": "stream",
     "text": [
      "\n",
      "Arithmetic Puzzle: 7 - 11\n",
      "Your answer: -4\n",
      "Invalid input. Please enter a number.\n",
      "\n",
      "Arithmetic Puzzle: 10 * 9\n",
      "Your answer: 90\n",
      "Correct!\n",
      "Do you want to play again? (yes/no): no\n",
      "\n",
      "Your score: 1/1 \n",
      "Your percentage is 100.00%\n"
     ]
    }
   ],
   "source": [
    "import random\n",
    "\n",
    "def playArithmeticPuzzle():\n",
    "    score = 0\n",
    "    total_question_attempts = 0\n",
    "\n",
    "    while True:\n",
    "        num1 = random.randint(1, 20)\n",
    "        num2 = random.randint(1, 20)\n",
    "        operator = random.choice(['+', '-', '*', '/'])\n",
    "        question = f\"{num1} {operator} {num2}\"\n",
    "        correct_answer = eval(question)\n",
    "\n",
    "        print(f\"\\nArithmetic Puzzle: {question}\")\n",
    "        user_answer = input(\"Your answer: \")\n",
    "\n",
    "        if user_answer.replace('.', '', 1).isdigit():\n",
    "            user_answer = float(user_answer)\n",
    "            total_question_attempts += 1\n",
    "\n",
    "            if user_answer == correct_answer:\n",
    "                print(\"Correct!\")\n",
    "                score += 1\n",
    "            else:\n",
    "                print(f\"Wrong! The correct answer is {correct_answer}\")\n",
    "\n",
    "            want_to_play_again = input(\"Do you want to play again? (yes/no): \").lower()\n",
    "            if want_to_play_again != 'yes':\n",
    "                break\n",
    "        else:\n",
    "            print(\"Invalid input. Please enter a number.\")\n",
    "\n",
    "    if total_question_attempts > 0:\n",
    "        percentage_score = (score / total_question_attempts) * 100\n",
    "        print(f\"\\nYour score: {score}/{total_question_attempts} \")\n",
    "        print(f'Your percentage is {percentage_score:.2f}%')\n",
    "playArithmeticPuzzle()\n",
    "\n"
   ]
  },
  {
   "cell_type": "markdown",
   "id": "3fc5ed08",
   "metadata": {},
   "source": [
    "# PART 2"
   ]
  },
  {
   "cell_type": "markdown",
   "id": "f05f08b6",
   "metadata": {},
   "source": [
    "# Task 1"
   ]
  },
  {
   "cell_type": "code",
   "execution_count": 5,
   "id": "0da9b483",
   "metadata": {},
   "outputs": [
    {
     "name": "stdout",
     "output_type": "stream",
     "text": [
      "Rock, Paper, Scissors Game against Computer!\n",
      "Enter your choice (rock, paper, scissors): paper\n",
      "\n",
      "Computer chose: scissors\n",
      "Scissors beats paper! Computer wins!\n"
     ]
    }
   ],
   "source": [
    "import random\n",
    "choices = [\"rock\", \"paper\", \"scissors\"]\n",
    "computer_choice = random.choice(choices)\n",
    "user_choice = input(\"Enter your choice (rock, paper, scissors): \").lower()\n",
    "\n",
    "print(f\"\\nComputer chose: {computer_choice}\")\n",
    "if user_choice in choices:\n",
    "    if user_choice == computer_choice:\n",
    "        print(\"It's a tie!\")\n",
    "    elif (\n",
    "        (user_choice == \"rock\" and computer_choice == \"scissors\") or\n",
    "        (user_choice == \"paper\" and computer_choice == \"rock\") or\n",
    "        (user_choice == \"scissors\" and computer_choice == \"paper\")):\n",
    "            \n",
    "        print(f\"{user_choice.capitalize()} smashes {computer_choice}! You win!\")\n",
    "    else:\n",
    "        print(f\"{computer_choice.capitalize()} beats {user_choice}! Computer wins!\")\n",
    "else:\n",
    "    print(\"Invalid choice. Please enter 'rock', 'paper', or 'scissors'.\")\n",
    "\n",
    "\n"
   ]
  },
  {
   "cell_type": "markdown",
   "id": "4758fa18",
   "metadata": {},
   "source": [
    "# Task 2"
   ]
  },
  {
   "cell_type": "code",
   "execution_count": 6,
   "id": "22c70838",
   "metadata": {},
   "outputs": [
    {
     "name": "stdout",
     "output_type": "stream",
     "text": [
      "Enter your name: rock\n",
      "Enter your name: paper\n",
      "Hello rock! Enter your choice (rock, paper, scissors): roc\n",
      "Hello paper! Enter your choice (rock, paper, scissors): paper\n",
      "paper wins! paper beats roc\n"
     ]
    }
   ],
   "source": [
    "user1_name = input(\"Enter your name: \")\n",
    "user2_name = input(\"Enter your name: \")\n",
    "user1_choice = input(f\"Hello {user1_name}! Enter your choice (rock, paper, scissors): \").lower()\n",
    "user2_choice = input(f\"Hello {user2_name}! Enter your choice (rock, paper, scissors): \").lower()\n",
    "\n",
    "if user1_choice == user2_choice:\n",
    "    print(\"It's a tie match\")\n",
    "elif user1_choice == 'rock' and user2_choice == 'scissors':\n",
    "    print(f'{user1_name} wins! {user2_choice} covers {user1_choice}')\n",
    "elif user1_choice == 'scissors' and user2_choice == 'paper':\n",
    "    print(f'{user1_name} wins! {user1_choice} cut {user2_choice}')\n",
    "elif user1_choice == 'paper' and user2_choice == 'rock':\n",
    "    print(f'{user1_name} wins! {user1_choice} smashes {user2_choice}')\n",
    "else:\n",
    "    print(f'{user2_name} wins! {user2_choice} beats {user1_choice}')\n"
   ]
  },
  {
   "cell_type": "markdown",
   "id": "56b99f56",
   "metadata": {},
   "source": [
    "# Task 3"
   ]
  },
  {
   "cell_type": "markdown",
   "id": "6f25f0ec",
   "metadata": {},
   "source": [
    "# 1."
   ]
  },
  {
   "cell_type": "code",
   "execution_count": null,
   "id": "92bdaba6",
   "metadata": {},
   "outputs": [],
   "source": [
    "import random\n",
    "def playRPSWithComputer():\n",
    "    choices = [\"rock\", \"paper\", \"scissors\"]\n",
    "    computer_choice = random.choice(choices)\n",
    "\n",
    "    print(\"Rock, Paper, Scissors Game against Computer!\")\n",
    "    user_choice = input(\"Enter your choice (rock, paper, scissors): \").lower()\n",
    "\n",
    "    print(f\"\\nComputer chose: {computer_choice}\")\n",
    "\n",
    "    if user_choice in choices:\n",
    "        if user_choice == computer_choice:\n",
    "            print(\"It's a tie!\")\n",
    "        elif (\n",
    "            (user_choice == \"rock\" and computer_choice == \"scissors\") or\n",
    "            (user_choice == \"paper\" and computer_choice == \"rock\") or\n",
    "            (user_choice == \"scissors\" and computer_choice == \"paper\")):\n",
    "            \n",
    "            print(f\"{user_choice.capitalize()} smashes {computer_choice} You win!\")\n",
    "        else:\n",
    "            print(f\"{computer_choice.capitalize()} beats {user_choice} Computer wins!\")\n",
    "    else:\n",
    "        print(\"Invalid choice. Please enter 'rock', 'paper', or 'scissors'.\")\n",
    "playRPSWithComputer()\n"
   ]
  },
  {
   "cell_type": "markdown",
   "id": "41ae1c97",
   "metadata": {},
   "source": [
    "# 2."
   ]
  },
  {
   "cell_type": "code",
   "execution_count": null,
   "id": "0198561e",
   "metadata": {},
   "outputs": [],
   "source": [
    "def playRPSWithUser():\n",
    "    user1_name = input(\"Enter your name: \")\n",
    "    user2_name = input(\"Enter your name: \")\n",
    "\n",
    "    user1_choice = input(f\"Hello {user1_name}! Enter your choice (rock, paper, scissors): \").lower()\n",
    "    user2_choice = input(f\"Hello {user2_name}! Enter your choice (rock, paper, scissors): \").lower()\n",
    "\n",
    "    if user1_choice == user2_choice:\n",
    "        print(\"It's a tie match\")\n",
    "    elif user1_choice == 'rock' and user2_choice == 'scissors':\n",
    "        print(f'{user1_name} wins! {user2_choice} covers {user1_choice}')\n",
    "    elif user1_choice == 'scissors' and user2_choice == 'paper':\n",
    "        print(f'{user1_name} wins! {user1_choice} cut {user2_choice}')\n",
    "    elif user1_choice == 'paper' and user2_choice == 'rock':\n",
    "        print(f'{user1_name} wins! {user1_choice} smashes {user2_choice}')\n",
    "    else:\n",
    "        print(f'{user2_name} wins! {user2_choice} beats {user1_choice}')\n",
    "playRPSWithUser()"
   ]
  },
  {
   "cell_type": "markdown",
   "id": "d4ea1ecc",
   "metadata": {},
   "source": [
    "# PART3"
   ]
  },
  {
   "cell_type": "markdown",
   "id": "3f990e19",
   "metadata": {},
   "source": [
    "# Task 1"
   ]
  },
  {
   "cell_type": "code",
   "execution_count": null,
   "id": "c90b8c8d",
   "metadata": {},
   "outputs": [],
   "source": [
    "import random\n",
    "\n",
    "word_list = [\"python\", \"java\", \"tableau\", \"powerbi\", \"excel\"]\n",
    "secret_word = random.choice(word_list)\n",
    "    \n",
    "print(\"Welcome to Word Guessing Game\")\n",
    "print(\"Clue: It is a\", len(secret_word), \"letter word.\")\n",
    "\n",
    "attempts = 0\n",
    "while True:\n",
    "    guess = input(\"Enter your guess: \").lower()\n",
    "    attempts += 1\n",
    "\n",
    "    if guess == secret_word:\n",
    "        print(f\"Correct! Your guess word is correct  in {attempts} attempt.\")\n",
    "        break\n",
    "    else:\n",
    "        print(\"Incorrect! Please try again.\")\n",
    "\n"
   ]
  },
  {
   "cell_type": "markdown",
   "id": "9cef144c",
   "metadata": {},
   "source": [
    "# Task 2"
   ]
  },
  {
   "cell_type": "code",
   "execution_count": 2,
   "id": "75d6e259",
   "metadata": {},
   "outputs": [
    {
     "name": "stdout",
     "output_type": "stream",
     "text": [
      "Welcome to Word Guessing Game\n",
      "Clue: It is a 6 letter word.\n",
      "Enter your guess: python\n",
      "Correct! Your guess word is correct  in 1 attempt.\n"
     ]
    }
   ],
   "source": [
    "import random\n",
    "\n",
    "def word_guessing_game():\n",
    "    word_list = [\"python\", \"java\", \"tableau\", \"powerbi\", \"excel\"]\n",
    "    secret_word = random.choice(word_list)\n",
    "    \n",
    "    print(\"Welcome to Word Guessing Game\")\n",
    "    print(\"Clue: It is a\", len(secret_word), \"letter word.\")\n",
    "\n",
    "    attempts = 0\n",
    "    while True:\n",
    "        guess_word = input(\"Enter your guess: \").lower()\n",
    "        attempts += 1\n",
    "\n",
    "        if guess_word == secret_word:\n",
    "            print(f\"Correct! Your guess word is correct  in {attempts} attempt.\")\n",
    "            break\n",
    "        else:\n",
    "            print(\"Incorrect! Please try again.\")\n",
    "word_guessing_game()\n"
   ]
  },
  {
   "cell_type": "markdown",
   "id": "4c16cf16",
   "metadata": {},
   "source": [
    "# Task 3"
   ]
  },
  {
   "cell_type": "code",
   "execution_count": 4,
   "id": "d86ba8ef",
   "metadata": {},
   "outputs": [
    {
     "name": "stdout",
     "output_type": "stream",
     "text": [
      "Menu:\n",
      "1. Play Riddle Puzzle.\n",
      "2. Play Arithmetic Puzzle.\n",
      "3. Play Rock-Paper-Scissors game with computer.\n",
      "4. Play Rock-Paper-Scissors game with a user.\n",
      "5. Play Word-Guessing game with Computer.\n"
     ]
    }
   ],
   "source": [
    "def menu():\n",
    "    print(\"Menu:\")\n",
    "    print(\"1. Play Riddle Puzzle.\")\n",
    "    print(\"2. Play Arithmetic Puzzle.\")\n",
    "    print(\"3. Play Rock-Paper-Scissors game with computer.\")\n",
    "    print(\"4. Play Rock-Paper-Scissors game with a user.\")\n",
    "    print(\"5. Play Word-Guessing game with Computer.\")\n",
    "\n",
    "\n",
    "menu()\n"
   ]
  },
  {
   "cell_type": "markdown",
   "id": "2515b5ce",
   "metadata": {},
   "source": [
    "# Task 4"
   ]
  },
  {
   "cell_type": "code",
   "execution_count": 5,
   "id": "d7178d67",
   "metadata": {},
   "outputs": [
    {
     "name": "stdout",
     "output_type": "stream",
     "text": [
      "Menu:\n",
      "1. Play Riddle Puzzle.\n",
      "2. Play Arithmetic Puzzle.\n",
      "3. Play Rock-Paper-Scissors game with computer.\n",
      "4. Play Rock-Paper-Scissors game with a user.\n",
      "5. Play Word-Guessing game with Computer.\n",
      "Enter your choice (1-5): 5\n",
      "Welcome to Word Guessing Game\n",
      "Clue: It is a 7 letter word.\n",
      "Enter your guess: powerbi\n",
      "Correct! Your guess word is correct  in 1 attempt.\n",
      "Do you want to play another game? (Y/N): y\n",
      "Menu:\n",
      "1. Play Riddle Puzzle.\n",
      "2. Play Arithmetic Puzzle.\n",
      "3. Play Rock-Paper-Scissors game with computer.\n",
      "4. Play Rock-Paper-Scissors game with a user.\n",
      "5. Play Word-Guessing game with Computer.\n",
      "Enter your choice (1-5): 2\n"
     ]
    },
    {
     "ename": "NameError",
     "evalue": "name 'playArithmeticPuzzle' is not defined",
     "output_type": "error",
     "traceback": [
      "\u001b[1;31m---------------------------------------------------------------------------\u001b[0m",
      "\u001b[1;31mNameError\u001b[0m                                 Traceback (most recent call last)",
      "\u001b[1;32mC:\\Users\\GHANAS~1\\AppData\\Local\\Temp/ipykernel_10608/734808865.py\u001b[0m in \u001b[0;36m<module>\u001b[1;34m\u001b[0m\n\u001b[0;32m     25\u001b[0m         \u001b[1;32mif\u001b[0m \u001b[0mplay_again\u001b[0m \u001b[1;33m!=\u001b[0m \u001b[1;34m'y'\u001b[0m\u001b[1;33m:\u001b[0m\u001b[1;33m\u001b[0m\u001b[1;33m\u001b[0m\u001b[0m\n\u001b[0;32m     26\u001b[0m             \u001b[1;32mbreak\u001b[0m\u001b[1;33m\u001b[0m\u001b[1;33m\u001b[0m\u001b[0m\n\u001b[1;32m---> 27\u001b[1;33m \u001b[0mmain\u001b[0m\u001b[1;33m(\u001b[0m\u001b[1;33m)\u001b[0m\u001b[1;33m\u001b[0m\u001b[1;33m\u001b[0m\u001b[0m\n\u001b[0m",
      "\u001b[1;32mC:\\Users\\GHANAS~1\\AppData\\Local\\Temp/ipykernel_10608/734808865.py\u001b[0m in \u001b[0;36mmain\u001b[1;34m()\u001b[0m\n\u001b[0;32m      8\u001b[0m             \u001b[0mprint\u001b[0m\u001b[1;33m(\u001b[0m\u001b[1;34m\"Executing riddle puzzle...\"\u001b[0m\u001b[1;33m)\u001b[0m\u001b[1;33m\u001b[0m\u001b[1;33m\u001b[0m\u001b[0m\n\u001b[0;32m      9\u001b[0m         \u001b[1;32melif\u001b[0m \u001b[0mchoice\u001b[0m \u001b[1;33m==\u001b[0m \u001b[1;34m'2'\u001b[0m\u001b[1;33m:\u001b[0m\u001b[1;33m\u001b[0m\u001b[1;33m\u001b[0m\u001b[0m\n\u001b[1;32m---> 10\u001b[1;33m             \u001b[0mplayArithmeticPuzzle\u001b[0m\u001b[1;33m(\u001b[0m\u001b[1;33m)\u001b[0m\u001b[1;33m\u001b[0m\u001b[1;33m\u001b[0m\u001b[0m\n\u001b[0m\u001b[0;32m     11\u001b[0m             \u001b[0mprint\u001b[0m\u001b[1;33m(\u001b[0m\u001b[1;34m\"Executing arithmetic puzzle...\"\u001b[0m\u001b[1;33m)\u001b[0m\u001b[1;33m\u001b[0m\u001b[1;33m\u001b[0m\u001b[0m\n\u001b[0;32m     12\u001b[0m         \u001b[1;32melif\u001b[0m \u001b[0mchoice\u001b[0m \u001b[1;33m==\u001b[0m \u001b[1;34m'3'\u001b[0m\u001b[1;33m:\u001b[0m\u001b[1;33m\u001b[0m\u001b[1;33m\u001b[0m\u001b[0m\n",
      "\u001b[1;31mNameError\u001b[0m: name 'playArithmeticPuzzle' is not defined"
     ]
    }
   ],
   "source": [
    "def main():\n",
    "    while True:\n",
    "        menu()\n",
    "        choice = input(\"Enter your choice (1-5): \")\n",
    "\n",
    "        if choice == '1':\n",
    "            playRiddlePuzzle()\n",
    "            print(\"Executing riddle puzzle...\")\n",
    "        elif choice == '2':\n",
    "            playArithmeticPuzzle()\n",
    "            print(\"Executing arithmetic puzzle...\")\n",
    "        elif choice == '3':\n",
    "            playRPSWithComputer()\n",
    "            print(\"Executing rock-paper-scissors with computer...\")\n",
    "        elif choice == '4':\n",
    "            playRPSWithUser()\n",
    "            print(\"Executing rock-paper-scissors between users...\")\n",
    "        elif choice == '5':\n",
    "            # Call function to play word guessing game\n",
    "            word_guessing_game()\n",
    "        else:\n",
    "            print(\"You have entered a wrong option.\")\n",
    "\n",
    "        play_again = input(\"Do you want to play another game? (Y/N): \").lower()\n",
    "        if play_again != 'y':\n",
    "            break\n",
    "main()\n"
   ]
  },
  {
   "cell_type": "code",
   "execution_count": 2,
   "id": "3da30fee",
   "metadata": {},
   "outputs": [
    {
     "name": "stdout",
     "output_type": "stream",
     "text": [
      "5\n",
      "7\n",
      "11\n",
      "13\n",
      "17\n",
      "19\n",
      "23\n",
      "29\n"
     ]
    }
   ],
   "source": [
    "for num in range(5,30):\n",
    "    if num>1:\n",
    "        for i in range(2,num):\n",
    "            if num%i==0:\n",
    "                break\n",
    "        else:\n",
    "            print(num)\n"
   ]
  },
  {
   "cell_type": "code",
   "execution_count": null,
   "id": "3fcfca2f",
   "metadata": {},
   "outputs": [],
   "source": []
  }
 ],
 "metadata": {
  "kernelspec": {
   "display_name": "Python 3 (ipykernel)",
   "language": "python",
   "name": "python3"
  },
  "language_info": {
   "codemirror_mode": {
    "name": "ipython",
    "version": 3
   },
   "file_extension": ".py",
   "mimetype": "text/x-python",
   "name": "python",
   "nbconvert_exporter": "python",
   "pygments_lexer": "ipython3",
   "version": "3.9.7"
  }
 },
 "nbformat": 4,
 "nbformat_minor": 5
}
